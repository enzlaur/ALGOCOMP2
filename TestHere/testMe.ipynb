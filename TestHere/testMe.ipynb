{
 "cells": [
  {
   "cell_type": "markdown",
   "metadata": {},
   "source": [
    "# Laurenz Tolentino"
   ]
  },
  {
   "cell_type": "code",
   "execution_count": 2,
   "metadata": {
    "collapsed": false
   },
   "outputs": [
    {
     "name": "stdout",
     "output_type": "stream",
     "text": [
      "Enter the number of clusters (1-5)\n",
      "3\n",
      "Enter full/elkan\n",
      "full\n",
      "k_means has been called\n",
      "Freq from kmeans: 504\n",
      "Freq from validation: 1454\n",
      "Freq from spectral: 0\n",
      "Total freq count: 1958\n",
      "Expected BigO/FreqCount for Lloyd/full\n",
      "O(knt) = 3*99*6 = 1782\n",
      "len:  102\n"
     ]
    },
    {
     "data": {
      "image/png": "[encoded data removed]",
      "text/plain": [
       "<matplotlib.figure.Figure at 0x10ee54048>"
      ]
     },
     "metadata": {},
     "output_type": "display_data"
    }
   ],
   "source": [
    "# FILE READING\n",
    "\n",
    "\n",
    "import csv\n",
    "import numpy as np\n",
    "from numpy.random import rand\n",
    "import matplotlib.pyplot as plt\n",
    "\n",
    "from sklearn.cluster import KMeans\n",
    "\n",
    "# from sklearn.cluster.k_means_ import freq as freqme\n",
    "from sklearn.cluster.k_means_ import printfrequency as kmeanfreq\n",
    "from sklearn.cluster.k_means_ import getfreq as kmeangetfreq\n",
    "from sklearn.utils.validation import printfreq as validfreq\n",
    "from sklearn.utils.validation import getfreq as validgetfreq\n",
    "from sklearn.cluster.spectral import printfreq as spectralfreq\n",
    "from sklearn.cluster.k_means_ import getlloyditer as lloyditer\n",
    "\n",
    "#practice of reading files\n",
    "def read_me():\n",
    "    sampleFile = open('smalldata.csv', 'rb')\n",
    "    reader = csv.reader(sampleFile)\n",
    "\n",
    "\n",
    "def usewith(nclusters, algotype):\n",
    "    clust1 = []\n",
    "    clusterpoints = []\n",
    "    # acquire data from csv\n",
    "    with open('smalldata.csv') as smalldata:\n",
    "        newReader = csv.reader(smalldata)\n",
    "        for row in newReader:\n",
    "            if row[0] !=  \"\\ufeffCLOSEST_DEF\":\n",
    "                clust1.append(row)\n",
    "    # set the points\n",
    "    points = np.array(clust1)\n",
    "    # start kmeans processing\n",
    "    kmeans = KMeans(n_clusters=nclusters, random_state=np.random, algorithm=algotype)\n",
    "    kmeans.fit(points)\n",
    "    # print the freq count per class (kmeans, validations, etc)\n",
    "    kmeanfreq()\n",
    "    validfreq()\n",
    "    spectralfreq()\n",
    "    totalfreq = kmeangetfreq() + validgetfreq()\n",
    "    # print total freq\n",
    "    print(\"Total freq count: \" + str(totalfreq))\n",
    "    # print expected range of freq count\n",
    "    if algotype == \"full\":\n",
    "        print(\"Expected BigO/FreqCount for Lloyd/full\")\n",
    "        print(\"O(knt) = \" + str(nclusters) + \"*\" + str(len(points)) +\n",
    "              \"*\" + str(lloyditer()) + \" = \" + str(nclusters*len(points)*lloyditer()))\n",
    "    else:\n",
    "        print(\"Expected BigO for Elkan\")\n",
    "        print(\"From O() = \")\n",
    "    for i in range(len(points)):\n",
    "        point = points[i]\n",
    "        label = kmeans.labels_[i]\n",
    "        clusterpoints.append([float(point[0]), float(point[1]), label])\n",
    "    for centers in kmeans.cluster_centers_:\n",
    "        clusterpoints.append([float(centers[0]), float(centers[1]), 99])\n",
    "\n",
    "    # print(kmeans.labels_)\n",
    "    # print(kmeans.cluster_centers_)\n",
    "    return clusterpoints\n",
    "\n",
    "\n",
    "def colorchoices(x):\n",
    "    return {\n",
    "        0: 'red',\n",
    "        1: 'blue',\n",
    "        2: 'orange',\n",
    "        3: 'pink',\n",
    "        4: 'cyan',\n",
    "        5: 'teal',\n",
    "        99: 'green'\n",
    "    }[x]\n",
    "\n",
    "\n",
    "def startclustering():\n",
    "    print(\"Enter the number of clusters (1-5)\")\n",
    "    num = input()\n",
    "    print(\"Enter full/elkan\")\n",
    "    algotype = input()\n",
    "    clusterpoints = usewith(int(num), str(algotype))\n",
    "    fig, ax = plt.subplots()\n",
    "    print(\"len: \", len(clusterpoints))\n",
    "    for i in range(len(clusterpoints)):\n",
    "        point = clusterpoints[i]\n",
    "        x = point[0]\n",
    "        y = point[1]\n",
    "        z = point[2]\n",
    "        color = colorchoices(z)\n",
    "        ax.scatter(x, y, c=color)\n",
    "    ax.grid(True)\n",
    "    plt.show()\n",
    "\n",
    "\n",
    "def testmatplot():\n",
    "    fig, ax = plt.subplots()\n",
    "    for color in ['red', 'green', 'blue']:\n",
    "        n = 100\n",
    "        x, y = rand(2, n)\n",
    "        scale = 200.0 * rand(n)\n",
    "        ax.scatter(x, y, c=color, s=scale, label=color,alpha=0.3, edgecolors='none')\n",
    "    ax.legend()\n",
    "    ax.grid(True)\n",
    "    plt.show()\n",
    "\n",
    "\n",
    "# Run your crap below\n",
    "# createscatter()\n",
    "startclustering()\n"
   ]
  },
  {
   "cell_type": "code",
   "execution_count": null,
   "metadata": {
    "collapsed": true
   },
   "outputs": [],
   "source": []
  },
  {
   "cell_type": "code",
   "execution_count": null,
   "metadata": {
    "collapsed": true
   },
   "outputs": [],
   "source": []
  }
 ],
 "metadata": {
  "kernelspec": {
   "display_name": "Python 3",
   "language": "python",
   "name": "python3"
  },
  "language_info": {
   "codemirror_mode": {
    "name": "ipython",
    "version": 3
   },
   "file_extension": ".py",
   "mimetype": "text/x-python",
   "name": "python",
   "nbconvert_exporter": "python",
   "pygments_lexer": "ipython3",
   "version": "3.6.0"
  }
 },
 "nbformat": 4,
 "nbformat_minor": 0
}
