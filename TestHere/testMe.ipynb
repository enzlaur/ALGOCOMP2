{
 "cells": [
  {
   "cell_type": "markdown",
   "metadata": {},
   "source": [
    "# Laurenz Tolentino"
   ]
  },
  {
   "cell_type": "code",
   "execution_count": 2,
   "metadata": {},
   "outputs": [
    {
     "name": "stdout",
     "output_type": "stream",
     "text": [
      "len:  103\n"
     ]
    },
    {
     "data": {
      "image/png": "[encoded data removed]"
     },
     "output_type": "display_data",
     "metadata": {}
    }
   ],
   "source": [
    "# FILE READING\n",
    "\n",
    "\n",
    "import csv\n",
    "import numpy as np\n",
    "from numpy.random import rand\n",
    "import matplotlib.pyplot as plt\n",
    "\n",
    "from sklearn.cluster import KMeans\n",
    "\n",
    "\n",
    "#practice of reading files\n",
    "def read_me():\n",
    "    sampleFile = open('smalldata.csv', 'rb')\n",
    "    reader = csv.reader(sampleFile)\n",
    "\n",
    "\n",
    "def usewith():\n",
    "    clust1 = []\n",
    "    clusterpoints = []\n",
    "    with open('smalldata.csv') as smalldata:\n",
    "        newReader = csv.reader(smalldata)\n",
    "        for row in newReader:\n",
    "            if row[0] !=  \"\\ufeffCLOSEST_DEF\":\n",
    "                clust1.append(row)\n",
    "    points = np.array(clust1)\n",
    "    kmeans = KMeans(n_clusters=4, random_state=np.random).fit(points)\n",
    "    for i in range(len(points)):\n",
    "        point = points[i]\n",
    "        label = kmeans.labels_[i]\n",
    "        clusterpoints.append([float(point[0]), float(point[1]), label])\n",
    "    for centers in kmeans.cluster_centers_:\n",
    "        clusterpoints.append([float(centers[0]), float(centers[1]), 99])\n",
    "    # print(kmeans.labels_)\n",
    "    # print(kmeans.cluster_centers_)\n",
    "    return clusterpoints\n",
    "\n",
    "\n",
    "def colorchoices(x):\n",
    "    return {\n",
    "        0: 'red',\n",
    "        1: 'blue',\n",
    "        2: 'orange',\n",
    "        3: 'pink',\n",
    "        4: 'cyan',\n",
    "        99: 'green'\n",
    "    }[x]\n",
    "\n",
    "\n",
    "def createscatter():\n",
    "    clusterpoints = usewith()\n",
    "    fig, ax = plt.subplots()\n",
    "    print(\"len: \", len(clusterpoints))\n",
    "    for i in range(len(clusterpoints)):\n",
    "        point = clusterpoints[i]\n",
    "        x = point[0]\n",
    "        y = point[1]\n",
    "        z = point[2]\n",
    "        color = colorchoices(z)\n",
    "        ax.scatter(x, y, c=color)\n",
    "    ax.grid(True)\n",
    "    plt.show()\n",
    "\n",
    "\n",
    "def testmatplot():\n",
    "    fig, ax = plt.subplots()\n",
    "    for color in ['red', 'green', 'blue']:\n",
    "        n = 100\n",
    "        x, y = rand(2, n)\n",
    "        scale = 200.0 * rand(n)\n",
    "        ax.scatter(x, y, c=color, s=scale, label=color,alpha=0.3, edgecolors='none')\n",
    "    ax.legend()\n",
    "    ax.grid(True)\n",
    "    plt.show()\n",
    "\n",
    "\n",
    "# Run your crap below\n",
    "# createscatter()\n",
    "createscatter()"
   ]
  },
  {
   "cell_type": "code",
   "execution_count": null,
   "metadata": {},
   "outputs": [],
   "source": [
    ""
   ]
  }
 ],
 "metadata": {
  "kernelspec": {
   "display_name": "Python 3",
   "language": "python",
   "name": "python3"
  },
  "language_info": {
   "codemirror_mode": {
    "name": "ipython",
    "version": 3.0
   },
   "file_extension": ".py",
   "mimetype": "text/x-python",
   "name": "python",
   "nbconvert_exporter": "python",
   "pygments_lexer": "ipython3",
   "version": "3.6.0"
  }
 },
 "nbformat": 4,
 "nbformat_minor": 0
}