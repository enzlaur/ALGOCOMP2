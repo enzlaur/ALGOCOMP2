{
 "cells": [
  {
   "cell_type": "markdown",
   "metadata": {},
   "source": [
    "# Laurenz Tolentino"
   ]
  },
  {
   "cell_type": "code",
   "execution_count": 1,
   "metadata": {
    "collapsed": false
   },
   "outputs": [
    {
     "name": "stdout",
     "output_type": "stream",
     "text": [
      "[[[1.3, 7.7, 0]], [[2.1, 3.5, 0]], [[1.8, 14.6, 2]], [[5.4, 5.9, 0]], [[5.6, 24.7, 1]], [[11.1, 24.2, 1]], [[4.0, 19.1, 2]], [[5.4, 14.8, 2]], [[5.1, 22.8, 1]], [[6.0, 24.6, 1]], [[0.7, 10.6, 0]], [[2.4, 7.6, 0]], [[1.8, 8.0, 0]], [[4.9, 6.9, 0]], [[11.3, 24.7, 1]], [[7.2, 22.5, 1]], [[1.9, 20.0, 2]], [[2.4, 5.6, 0]], [[9.1, 23.1, 1]], [[3.2, 5.2, 0]], [[2.3, 6.7, 0]], [[4.3, 5.0, 0]], [[4.7, 19.5, 2]], [[5.5, 24.0, 1]], [[4.4, 21.8, 1]], [[3.5, 24.7, 1]], [[2.5, 13.1, 2]], [[10.7, 14.5, 2]], [[4.8, 21.7, 1]], [[9.0, 21.2, 1]], [[2.8, 4.4, 0]], [[12.8, 24.4, 1]], [[1.8, 3.4, 0]], [[4.3, 22.7, 1]], [[3.7, 8.0, 0]], [[3.5, 25.7, 1]], [[2.0, 7.9, 0]], [[3.2, 22.7, 1]], [[4.1, 21.0, 2]], [[5.9, 24.5, 1]], [[5.3, 19.0, 2]], [[3.7, 19.3, 2]], [[5.0, 17.8, 2]], [[8.7, 22.7, 1]], [[7.8, 25.1, 1]], [[2.9, 20.5, 2]], [[5.1, 18.3, 2]], [[7.8, 24.9, 1]], [[2.6, 5.3, 0]], [[6.2, 20.5, 2]], [[5.3, 24.0, 1]], [[13.0, 22.3, 1]], [[2.7, 10.4, 0]], [[4.0, 23.2, 1]], [[2.7, 5.6, 0]], [[3.1, 7.4, 0]], [[7.8, 20.4, 1]], [[5.5, 21.5, 1]], [[4.6, 21.7, 1]], [[5.1, 18.5, 2]], [[16.3, 3.1, 0]], [[7.2, 19.3, 2]], [[1.8, 11.4, 0]], [[4.8, 24.3, 1]], [[4.9, 24.8, 1]], [[5.1, 24.7, 1]], [[9.0, 17.0, 2]], [[4.0, 18.0, 2]], [[5.0, 21.0, 2]], [[8.9, 22.0, 1]], [[2.7, 19.2, 2]], [[2.5, 15.8, 2]], [[5.3, 23.8, 1]], [[5.3, 23.9, 1]], [[9.3, 24.8, 1]], [[5.9, 25.1, 1]], [[2.6, 16.5, 2]], [[16.4, 24.9, 1]], [[1.1, 5.2, 0]], [[5.3, 20.5, 2]], [[4.6, 21.3, 2]], [[3.6, 0.9, 0]], [[4.8, 26.4, 1]], [[5.2, 24.3, 1]], [[1.8, 15.4, 2]], [[6.4, 23.9, 1]], [[5.2, 24.1, 1]], [[13.1, 23.8, 1]], [[7.1, 17.2, 2]], [[7.5, 25.0, 1]], [[2.4, 9.3, 0]], [[2.8, 26.0, 1]], [[6.1, 25.0, 1]], [[6.0, 23.8, 1]], [[3.9, 20.3, 2]], [[3.4, 20.7, 2]], [[2.5, 8.1, 0]], [[3.9, 18.4, 2]], [[2.2, 11.2, 0]]]\n"
     ]
    }
   ],
   "source": [
    "# FILE READING\n",
    "\n",
    "\n",
    "import csv\n",
    "import numpy as np\n",
    "\n",
    "\n",
    "from sklearn.cluster import KMeans\n",
    "\n",
    "\n",
    "#practice of reading files\n",
    "def read_me():\n",
    "    sampleFile = open('smalldata.csv', 'rb')\n",
    "    reader = csv.reader(sampleFile)\n",
    "\n",
    "\n",
    "def usewith():\n",
    "    clust1 = []\n",
    "    clusterpoints = []\n",
    "    with open('smalldata.csv') as smalldata:\n",
    "        newReader = csv.reader(smalldata)\n",
    "        for row in newReader:\n",
    "            if row[0] !=  \"\\ufeffCLOSEST_DEF\":\n",
    "                clust1.append(row)\n",
    "    points = np.array(clust1)\n",
    "    kmeans = KMeans(n_clusters=3, random_state=np.random).fit(points)\n",
    "    for i in range(len(points)):\n",
    "        point = points[i]\n",
    "        label = kmeans.labels_[i]\n",
    "        clusterpoints.append([[float(point[0]), float(point[1]), label]])\n",
    "    # print(kmeans.labels_)\n",
    "    # print(kmeans.cluster_centers_)\n",
    "    print(clusterpoints)\n",
    "\n",
    "\n",
    "# Run your crap below\n",
    "usewith()"
   ]
  },
  {
   "cell_type": "code",
   "execution_count": null,
   "metadata": {
    "collapsed": true
   },
   "outputs": [],
   "source": []
  }
 ],
 "metadata": {
  "kernelspec": {
   "display_name": "Python 3",
   "language": "python",
   "name": "python3"
  },
  "language_info": {
   "codemirror_mode": {
    "name": "ipython",
    "version": 3
   },
   "file_extension": ".py",
   "mimetype": "text/x-python",
   "name": "python",
   "nbconvert_exporter": "python",
   "pygments_lexer": "ipython3",
   "version": "3.6.0"
  }
 },
 "nbformat": 4,
 "nbformat_minor": 0
}
